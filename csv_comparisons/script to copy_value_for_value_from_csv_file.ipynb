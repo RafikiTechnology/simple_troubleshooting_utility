{
 "cells": [
  {
   "cell_type": "code",
   "execution_count": null,
   "metadata": {},
   "outputs": [],
   "source": [
    "import csv\n",
    "from encodings import utf_8\n",
    "\n",
    "in_file = \"hello.csv\"\n",
    "out_file = \"hello_fixed.csv\"\n",
    "\n",
    "row_reader = csv.reader(open(in_file, \"rt\", encoding=\"utf_8\"))\n",
    "row_writer = csv.writer(open(out_file, \"wt\"))\n",
    "\n",
    "first_row = row_reader.__next__()\n",
    "row_writer.writerow(first_row)\n",
    "for row in row_reader:\n",
    "    new_row = [val if val else \"\" for val in row] + ([\"\"] * (len(first_row) - len(row)))\n",
    "    #print (new_row)\n",
    "    print (\"OLD ROW\", row, \"->\", \"NEW ROW\", new_row)\n",
    "    row_writer.writerow(new_row)"
   ]
  }
 ],
 "metadata": {
  "kernelspec": {
   "display_name": "Python 3.10.4 64-bit",
   "language": "python",
   "name": "python3"
  },
  "language_info": {
   "codemirror_mode": {
    "name": "ipython",
    "version": 3
   },
   "file_extension": ".py",
   "mimetype": "text/x-python",
   "name": "python",
   "nbconvert_exporter": "python",
   "pygments_lexer": "ipython3",
   "version": "3.10.4"
  },
  "orig_nbformat": 4,
  "vscode": {
   "interpreter": {
    "hash": "aee8b7b246df8f9039afb4144a1f6fd8d2ca17a180786b69acc140d282b71a49"
   }
  }
 },
 "nbformat": 4,
 "nbformat_minor": 2
}
